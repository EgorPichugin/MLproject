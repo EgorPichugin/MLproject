{
 "cells": [
  {
   "cell_type": "code",
   "execution_count": 2,
   "metadata": {},
   "outputs": [],
   "source": [
    "# Imports for Evaluation\n",
    "import pandas as pd\n",
    "import seaborn as sns\n",
    "import matplotlib.pyplot as plt\n",
    "\n",
    "\n",
    "# Settings\n",
    "VERSION = 0\n",
    "class_names = ['MildDemented', 'ModerateDemented', 'NonDemented', 'VeryMildDemented']"
   ]
  },
  {
   "cell_type": "code",
   "execution_count": null,
   "metadata": {},
   "outputs": [],
   "source": [
    "# Load all data\n",
    "visualisation_arrays = pd.read_csv(\"visualisation_arrays.csv\")\n",
    "\n",
    "# Convert back to lists\n",
    "precision_array = visualisation_arrays[\"Precision\"].tolist()\n",
    "specificity_array = visualisation_arrays[\"Specificity\"].tolist()\n",
    "recall_array = visualisation_arrays[\"Recall\"].tolist()\n",
    "f1_score_array = visualisation_arrays[\"F1 Score\"].tolist()"
   ]
  },
  {
   "cell_type": "code",
   "execution_count": null,
   "metadata": {},
   "outputs": [],
   "source": [
    "# Save precision plot -- tells how many positive predictions are actually correct.\n",
    "plt.plot(precision_array, linestyle=\"-\", color=\"blue\", marker=\"o\", markersize=6, linewidth=2)\n",
    "\n",
    "plt.xlabel(\"Epochs\")\n",
    "plt.ylabel(\"Precision\")\n",
    "plt.title(f\"Precision Graph: v{VERSION+1}\", weight=\"bold\")\n",
    "plt.axhline(y=0, color=\"gray\", linestyle=\"-\", linewidth=1, alpha=0.7)\n",
    "plt.savefig(f\"precision_graph_v{VERSION+1}.png\")"
   ]
  },
  {
   "cell_type": "code",
   "execution_count": null,
   "metadata": {},
   "outputs": [],
   "source": [
    "# Save spesificity plot -- if high ensures less false positive\n",
    "plt.plot(specificity_array, linestyle=\"-\", color=\"blue\", marker=\"o\", markersize=6, linewidth=2)\n",
    "\n",
    "plt.xlabel(\"Epochs\")\n",
    "plt.ylabel(\"Spesificity\")\n",
    "plt.title(f\"Spesificity Graph: v{VERSION+1}\", weight=\"bold\")\n",
    "plt.axhline(y=0, color=\"gray\", linestyle=\"-\", linewidth=1, alpha=0.7)\n",
    "plt.savefig(f\"specificity_graph_v{VERSION+1}.png\")"
   ]
  },
  {
   "cell_type": "code",
   "execution_count": null,
   "metadata": {},
   "outputs": [],
   "source": [
    "# Save recall plot -- if high ensures less false negative\n",
    "plt.plot(recall_array, linestyle=\"-\", color=\"blue\", marker=\"o\", markersize=6, linewidth=2)\n",
    "\n",
    "plt.xlabel(\"Epochs\")\n",
    "plt.ylabel(\"Recall\")\n",
    "plt.title(f\"Recall Graph: v{VERSION+1}\", weight=\"bold\")\n",
    "plt.axhline(y=0, color=\"gray\", linestyle=\"-\", linewidth=1, alpha=0.7)\n",
    "plt.savefig(f\"racall_graph_v{VERSION+1}.png\")"
   ]
  },
  {
   "cell_type": "code",
   "execution_count": null,
   "metadata": {},
   "outputs": [],
   "source": [
    "# Save f1-score plot\n",
    "plt.plot(f1_score_array, linestyle=\"-\", color=\"blue\", marker=\"o\", markersize=6, linewidth=2)\n",
    "\n",
    "plt.xlabel(\"Epochs\")\n",
    "plt.ylabel(\"F1-score\")\n",
    "plt.title(f\"F1-score Graph: v{VERSION+1}\", weight=\"bold\")\n",
    "plt.axhline(y=0, color=\"gray\", linestyle=\"-\", linewidth=1, alpha=0.7)\n",
    "plt.savefig(f\"f1_graph_v{VERSION+1}.png\")"
   ]
  },
  {
   "cell_type": "code",
   "execution_count": null,
   "metadata": {},
   "outputs": [],
   "source": [
    "# Save Roc curve\n",
    "def save_roc_plot(test_y_pred: float, y: float, roc_metric, auc_metric) -> None:\n",
    "    linestyles = [\"-\", \"--\", \":\", \"-.\"]\n",
    "    colors = [\"blue\", \"yellow\", \"green\", \"red\"]\n",
    "    markers = [\"o\", \"s\", \"p\", \"h\"]\n",
    "\n",
    "    test_y_pred = test_y_pred.cpu()\n",
    "    y = y.cpu()\n",
    "    \n",
    "    fpr, tpr, _ = roc_metric(test_y_pred, y)\n",
    "    auc_score = auc_metric(test_y_pred, y)\n",
    "    for i in enumerate(class_names):\n",
    "        plt.plot(fpr[i], tpr[i], label=f\"Class {class_names[i]} (AUC: {auc_score[i]})\", linestyle=linestyles[i], color=colors[i], marker=markers[i], markersize=6, linewidth=2)\n",
    "\n",
    "    plt.plot([0, 1], [0, 1], \"k--\")\n",
    "    plt.xlabel(\"False Positive Rate\")\n",
    "    plt.ylabel(\"True Positive Rate\")\n",
    "    plt.title(f\"ROC Curve: v{VERSION+1}\", weight=\"bold\")\n",
    "    plt.legend(loc=\"lower right\", fontsize=12, frameon=True, shadow=True, fancybox=True, borderpad=1)\n",
    "    plt.axhline(y=0, color=\"gray\", linestyle=\"-\", linewidth=1, alpha=0.7)\n",
    "    plt.savefig(f\"roc_curve_v{VERSION+1}.png\")"
   ]
  },
  {
   "cell_type": "code",
   "execution_count": null,
   "metadata": {},
   "outputs": [],
   "source": [
    "# Save Confusion Matrix\n",
    "def save_confmat_plot(test_y_pred: float, y: float, conf_matrix_metric):\n",
    "    test_y_pred = test_y_pred.cpu()\n",
    "    y = y.cpu()\n",
    "\n",
    "    conf_matrix = conf_matrix_metric(test_y_pred, y)\n",
    "    conf_matrix = conf_matrix.numpy()\n",
    "\n",
    "    sns.heatmap(conf_matrix, annot=True, fmt=\"d\", cmap=\"Blues\", xticklabels=class_names, yticklabels=class_names)\n",
    "    plt.xlabel(\"Predicted Labels\")\n",
    "    plt.ylabel(\"True Labels\")\n",
    "    plt.title(f\"Confusion Matrix: v{VERSION+1}\", weight=\"bold\")\n",
    "    plt.savefig(f\"conf_matrix_v{VERSION+1}.png\")"
   ]
  }
 ],
 "metadata": {
  "kernelspec": {
   "display_name": ".venv",
   "language": "python",
   "name": "python3"
  },
  "language_info": {
   "codemirror_mode": {
    "name": "ipython",
    "version": 3
   },
   "file_extension": ".py",
   "mimetype": "text/x-python",
   "name": "python",
   "nbconvert_exporter": "python",
   "pygments_lexer": "ipython3",
   "version": "3.12.8"
  }
 },
 "nbformat": 4,
 "nbformat_minor": 2
}
