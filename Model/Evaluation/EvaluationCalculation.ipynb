{
 "cells": [
  {
   "cell_type": "code",
   "execution_count": 2,
   "metadata": {},
   "outputs": [],
   "source": [
    "# Imports for Evaluation\n",
    "import torch\n",
    "import pandas as pd\n",
    "import seaborn as sns\n",
    "import matplotlib.pyplot as plt\n",
    "from torchmetrics.classification import MulticlassROC, MulticlassAUROC\n",
    "from torchmetrics.classification import MulticlassConfusionMatrix\n",
    "\n",
    "# Settings\n",
    "VERSION = 0\n",
    "num_classes = 4\n",
    "device = \"cuda\" if torch.cuda.is_available() else \"cpu\"\n",
    "class_names = ['MildDemented', 'ModerateDemented', 'NonDemented', 'VeryMildDemented']"
   ]
  },
  {
   "cell_type": "code",
   "execution_count": 4,
   "metadata": {},
   "outputs": [],
   "source": [
    "# Load csv for visualisation\n",
    "visualisation_arrays = pd.read_csv(\"visualisation_arrays.csv\")\n",
    "\n",
    "# Convert to lists\n",
    "precision_array = visualisation_arrays[\"Precision\"].tolist()\n",
    "specificity_array = visualisation_arrays[\"Specificity\"].tolist()\n",
    "recall_array = visualisation_arrays[\"Recall\"].tolist()\n",
    "f1_score_array = visualisation_arrays[\"F1 Score\"].tolist()"
   ]
  },
  {
   "cell_type": "code",
   "execution_count": null,
   "metadata": {},
   "outputs": [],
   "source": [
    "# Save precision plot -- tells how many positive predictions are actually correct.\n",
    "plt.plot(precision_array, linestyle=\"-\", color=\"blue\", marker=\"o\", markersize=6, linewidth=2)\n",
    "\n",
    "plt.xlabel(\"Epochs\")\n",
    "plt.ylabel(\"Precision\")\n",
    "plt.title(f\"Precision Graph: v{VERSION+1}\", weight=\"bold\")\n",
    "plt.axhline(y=0, color=\"gray\", linestyle=\"-\", linewidth=1, alpha=0.7)\n",
    "plt.savefig(f\"precision_graph_v{VERSION+1}.png\")"
   ]
  },
  {
   "cell_type": "code",
   "execution_count": null,
   "metadata": {},
   "outputs": [],
   "source": [
    "# Save spesificity plot -- if high ensures less false positive\n",
    "plt.plot(specificity_array, linestyle=\"-\", color=\"blue\", marker=\"o\", markersize=6, linewidth=2)\n",
    "\n",
    "plt.xlabel(\"Epochs\")\n",
    "plt.ylabel(\"Spesificity\")\n",
    "plt.title(f\"Spesificity Graph: v{VERSION+1}\", weight=\"bold\")\n",
    "plt.axhline(y=0, color=\"gray\", linestyle=\"-\", linewidth=1, alpha=0.7)\n",
    "plt.savefig(f\"specificity_graph_v{VERSION+1}.png\")"
   ]
  },
  {
   "cell_type": "code",
   "execution_count": null,
   "metadata": {},
   "outputs": [],
   "source": [
    "# Save recall plot -- if high ensures less false negative\n",
    "plt.plot(recall_array, linestyle=\"-\", color=\"blue\", marker=\"o\", markersize=6, linewidth=2)\n",
    "\n",
    "plt.xlabel(\"Epochs\")\n",
    "plt.ylabel(\"Recall\")\n",
    "plt.title(f\"Recall Graph: v{VERSION+1}\", weight=\"bold\")\n",
    "plt.axhline(y=0, color=\"gray\", linestyle=\"-\", linewidth=1, alpha=0.7)\n",
    "plt.savefig(f\"racall_graph_v{VERSION+1}.png\")"
   ]
  },
  {
   "cell_type": "code",
   "execution_count": null,
   "metadata": {},
   "outputs": [],
   "source": [
    "# Save f1-score plot\n",
    "plt.plot(f1_score_array, linestyle=\"-\", color=\"blue\", marker=\"o\", markersize=6, linewidth=2)\n",
    "\n",
    "plt.xlabel(\"Epochs\")\n",
    "plt.ylabel(\"F1-score\")\n",
    "plt.title(f\"F1-score Graph: v{VERSION+1}\", weight=\"bold\")\n",
    "plt.axhline(y=0, color=\"gray\", linestyle=\"-\", linewidth=1, alpha=0.7)\n",
    "plt.savefig(f\"f1_graph_v{VERSION+1}.png\")"
   ]
  },
  {
   "cell_type": "code",
   "execution_count": null,
   "metadata": {},
   "outputs": [],
   "source": [
    "# Load pt for visualisation\n",
    "loaded_data = torch.load(\"visualisation_tensors_v1.pt\")\n",
    "\n",
    "# Convert to tensors\n",
    "all_probabilities = loaded_data[\"all_probabilities\"]\n",
    "all_predictions = loaded_data[\"all_predictions\"]\n",
    "all_labels = loaded_data[\"all_labels\"]"
   ]
  },
  {
   "cell_type": "code",
   "execution_count": null,
   "metadata": {},
   "outputs": [],
   "source": [
    "# Save Roc curve\n",
    "roc_metric = MulticlassROC(num_classes=num_classes).to(device)\n",
    "auc_metric = MulticlassAUROC(num_classes=num_classes, average=None).to(device)\n",
    "\n",
    "colors = [\"blue\", \"yellow\", \"green\", \"red\"]\n",
    "\n",
    "fpr, tpr, _ = roc_metric(all_probabilities, all_labels)\n",
    "auc_score = auc_metric(all_probabilities, all_labels)\n",
    "\n",
    "for i, _ in enumerate(class_names):\n",
    "    plt.plot(fpr[i], tpr[i], label=f\"Class {class_names[i]} (AUC: {auc_score[i]})\", color=colors[i], markersize=6, linewidth=2)\n",
    "\n",
    "plt.plot([0, 1], [0, 1], \"k--\")\n",
    "plt.xlabel(\"False Positive Rate\")\n",
    "plt.ylabel(\"True Positive Rate\")\n",
    "plt.title(f\"ROC Curve: v{VERSION+1}\", weight=\"bold\")\n",
    "plt.legend(loc=\"lower right\", fontsize=12, frameon=True, shadow=True, fancybox=True, borderpad=1)\n",
    "plt.axhline(y=0, color=\"gray\", linestyle=\"-\", linewidth=1, alpha=0.7)\n",
    "plt.savefig(f\"roc_curve_v{VERSION+1}.png\")"
   ]
  },
  {
   "cell_type": "code",
   "execution_count": null,
   "metadata": {},
   "outputs": [],
   "source": [
    "# Save Confusion Matrix\n",
    "conf_matrix_metric = MulticlassConfusionMatrix(num_classes=num_classes).to(device)\n",
    "\n",
    "conf_matrix = conf_matrix_metric(all_predictions, all_labels).cpu().numpy()\n",
    "\n",
    "sns.heatmap(conf_matrix, annot=True, fmt=\"d\", cmap=\"winter_r\", xticklabels=class_names, yticklabels=class_names)\n",
    "plt.xticks(rotation=45)\n",
    "plt.xlabel(\"Predicted Labels\")\n",
    "plt.ylabel(\"True Labels\")\n",
    "plt.title(f\"Confusion Matrix: v{VERSION+1}\", weight=\"bold\")\n",
    "plt.savefig(f\"conf_matrix_v{VERSION+1}.png\")"
   ]
  }
 ],
 "metadata": {
  "kernelspec": {
   "display_name": ".venv",
   "language": "python",
   "name": "python3"
  },
  "language_info": {
   "codemirror_mode": {
    "name": "ipython",
    "version": 3
   },
   "file_extension": ".py",
   "mimetype": "text/x-python",
   "name": "python",
   "nbconvert_exporter": "python",
   "pygments_lexer": "ipython3",
   "version": "3.12.8"
  }
 },
 "nbformat": 4,
 "nbformat_minor": 2
}
