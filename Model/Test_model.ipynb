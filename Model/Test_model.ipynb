{
 "cells": [
  {
   "cell_type": "markdown",
   "metadata": {},
   "source": [
    "# Imports"
   ]
  },
  {
   "cell_type": "code",
   "execution_count": 1,
   "metadata": {
    "id": "iGSyMxve1Ms6"
   },
   "outputs": [],
   "source": [
    "# Imports for data loading\n",
    "import os\n",
    "import numpy as np\n",
    "import pandas as pd\n",
    "import matplotlib.pyplot as plt\n",
    "\n",
    "# Imports for model learning\n",
    "import torch\n",
    "import torchvision\n",
    "from torch.utils.data import DataLoader\n",
    "from torchvision import datasets, transforms, models\n",
    "\n",
    "# Other imports\n",
    "import datetime"
   ]
  },
  {
   "cell_type": "markdown",
   "metadata": {},
   "source": [
    "# Cells for Colab"
   ]
  },
  {
   "cell_type": "code",
   "execution_count": 2,
   "metadata": {},
   "outputs": [],
   "source": [
    "# import zipfile\n",
    "# from google.colab import drive\n",
    "\n",
    "# drive.mount('/content/drive')\n",
    "# zip_path = '/content/drive/My Drive/dataset.zip'\n",
    "# extract_path = '/content'\n",
    "\n",
    "# with zipfile.ZipFile(zip_path, 'r') as zip_ref:\n",
    "#     zip_ref.extractall(extract_path)\n",
    "\n",
    "# print(os.listdir(extract_path))"
   ]
  },
  {
   "cell_type": "markdown",
   "metadata": {
    "id": "mCGuACRZ2Mdx"
   },
   "source": [
    "# Data Loading"
   ]
  },
  {
   "cell_type": "code",
   "execution_count": null,
   "metadata": {},
   "outputs": [],
   "source": [
    "# Dima's paths\n",
    "TRAIN_PATH = r'C:\\Users\\aquas\\Jupyter\\ML_Project_git\\dataset\\train'\n",
    "TEST_PATH = r'C:\\Users\\aquas\\Jupyter\\ML_Project_git\\dataset\\test'\n",
    "\n",
    "# Tykhin's paths\n",
    "#TRAIN_PATH = f'D:\\\\Tykhon\\\\Downloads\\\\data_folder\\\\train'\n",
    "#TEST_PATH = f'D:\\\\Tykhon\\\\Downloads\\\\data_folder\\\\test'\n",
    "\n",
    "# Colab paths\n",
    "#TRAIN_PATH = '/content/train'\n",
    "#TEST_PATH = '/content/test'\n",
    "\n",
    "train_set = datasets.ImageFolder(root=TRAIN_PATH)\n",
    "test_set = datasets.ImageFolder(root=TEST_PATH)\n",
    "\n",
    "# Print dataset configuration\n",
    "print(f\"\\nTraining set size: {len(train_set)} images\")\n",
    "print(f\"Test set size: {len(test_set)} images\")\n",
    "\n",
    "class_names = train_set.classes\n",
    "print(f\"\\nClasses [{len(class_names)}]: {class_names}\")\n"
   ]
  },
  {
   "cell_type": "code",
   "execution_count": null,
   "metadata": {},
   "outputs": [],
   "source": [
    "# Apply custom transformations\n",
    "custom_transform = transforms.Compose([\n",
    "    transforms.Resize((380, 380)),\n",
    "    transforms.CenterCrop(380),\n",
    "    transforms.Grayscale(num_output_channels=3),\n",
    "    transforms.ToTensor(),\n",
    "    transforms.Normalize(mean=[0.2954581669589034, 0.29541042352786206, 0.29537371119537875], std=[0.31727746077062646, 0.31729778651393764, 0.31726590300772206]),\n",
    "])\n",
    "train_set_transformed = datasets.ImageFolder(root=TRAIN_PATH, transform=custom_transform)\n",
    "test_set_transformed = datasets.ImageFolder(root=TEST_PATH, transform=custom_transform)\n",
    "\n",
    "# Show 5 pictures\n",
    "def show_pictures(dataset: datasets.ImageFolder, pictures_num: int=5) -> None:\n",
    "    start_index = 0\n",
    "\n",
    "    fig, axes = plt.subplots(nrows=1, ncols=pictures_num, figsize=(15, 45))\n",
    "\n",
    "    for _, ax in enumerate(axes):\n",
    "        image, label = dataset[np.random.randint(0, 23787)]\n",
    "        image = image.permute(1, 2, 0).numpy()\n",
    "        ax.imshow(image)\n",
    "        ax.set_title(f\"Label: {label}\")\n",
    "        ax.axis(\"off\")\n",
    "    plt.show()\n",
    "\n",
    "show_pictures(train_set_transformed)"
   ]
  },
  {
   "cell_type": "markdown",
   "metadata": {
    "id": "JdcO6mGt2aBC"
   },
   "source": [
    "# Model Loading"
   ]
  },
  {
   "cell_type": "code",
   "execution_count": null,
   "metadata": {
    "colab": {
     "base_uri": "https://localhost:8080/",
     "height": 35
    },
    "id": "wTAvHWlmgdku",
    "outputId": "d3f00461-bc4b-4d3b-a450-9db677f926e8"
   },
   "outputs": [],
   "source": [
    "# Check CUDA availability\n",
    "device = \"cuda\" if torch.cuda.is_available() else \"cpu\"\n",
    "device"
   ]
  },
  {
   "cell_type": "code",
   "execution_count": 5,
   "metadata": {
    "id": "AShIX61Ag8WQ"
   },
   "outputs": [],
   "source": [
    "# # Load model\n",
    "# model = torchvision.models.efficientnet_b4(weights=torchvision.models.EfficientNet_B4_Weights.DEFAULT).to(device)\n",
    "\n",
    "# # Set parameter training to False\n",
    "# for param in model.features.parameters():\n",
    "#     param.requires_grad = False\n",
    "\n",
    "# # Define classifier\n",
    "# model.classifier = torch.nn.Sequential(\n",
    "#     #torch.nn.Dropout(p=0.1, inplace=True), LOra!!! binary cross entropy -for multi labeling!!! mini-batching\n",
    "#     torch.nn.Linear(in_features=model.classifier[1].in_features,\n",
    "#                     out_features=4,\n",
    "#                     bias=True)).to(device)\n",
    "\n",
    "# # Define loss function and optimizer\n",
    "# loss_fn = torch.nn.CrossEntropyLoss()\n",
    "# optimizer = torch.optim.Adam(model.parameters(), lr=0.001)"
   ]
  },
  {
   "cell_type": "code",
   "execution_count": 6,
   "metadata": {},
   "outputs": [],
   "source": [
    "# Load model\n",
    "model = torchvision.models.densenet169(weights=torchvision.models.DenseNet169_Weights.DEFAULT).to(device)\n",
    "\n",
    "# Set parameter training to False\n",
    "for param in model.features.parameters():\n",
    "    param.requires_grad = True\n",
    "\n",
    "# Define classifier\n",
    "model.classifier = torch.nn.Sequential(\n",
    "    torch.nn.Linear(in_features=model.classifier.in_features,\n",
    "                    out_features=4,\n",
    "                    bias=True)).to(device)\n",
    "\n",
    "# Define loss function and optimizer\n",
    "loss_fn = torch.nn.CrossEntropyLoss()\n",
    "optimizer = torch.optim.Adam(model.parameters(), lr=0.001)\n"
   ]
  },
  {
   "cell_type": "markdown",
   "metadata": {},
   "source": [
    "# Settings"
   ]
  },
  {
   "cell_type": "code",
   "execution_count": 7,
   "metadata": {},
   "outputs": [],
   "source": [
    "# Loading custom weights (CHANGE VERSION EVERY NEW RUN!)\n",
    "VERSION = 0\n",
    "if VERSION != 0:\n",
    "    WEIGHTS_PATH = f\"model_weights_v{VERSION}.pt\"\n",
    "    model.load_state_dict(torch.load(WEIGHTS_PATH, weights_only=False))"
   ]
  },
  {
   "cell_type": "code",
   "execution_count": 8,
   "metadata": {},
   "outputs": [],
   "source": [
    "# Set batch size\n",
    "batch_size = 16\n",
    "train_dataloader = DataLoader(train_set_transformed, batch_size=batch_size, shuffle=True)\n",
    "test_dataloader = DataLoader(test_set_transformed, batch_size=batch_size, shuffle=False)"
   ]
  },
  {
   "cell_type": "code",
   "execution_count": 9,
   "metadata": {},
   "outputs": [],
   "source": [
    "# Set number of epochs\n",
    "epochs_num = 10"
   ]
  },
  {
   "cell_type": "markdown",
   "metadata": {},
   "source": [
    "# Functions"
   ]
  },
  {
   "cell_type": "code",
   "execution_count": 10,
   "metadata": {},
   "outputs": [],
   "source": [
    "# Save loss plot\n",
    "def show_loss_plot(axes: plt.axes, train_loss_array: list, test_loss_array: list) -> None:\n",
    "    axes.plot(train_loss_array, label=\"Train Loss\", linestyle='-', color='blue', marker='o', markersize=6, linewidth=2)\n",
    "    plt.plot(test_loss_array, label=\"Test Loss\", linestyle='--', color='orange', marker='s', markersize=6, linewidth=2)\n",
    "\n",
    "    axes.set_xlabel(\"Epochs\")\n",
    "    axes.set_ylabel(\"Loss\")\n",
    "    axes.set_title(f\"Loss Graph: v{VERSION+1}\", weight='bold')\n",
    "    axes.legend(loc=\"upper right\", fontsize=12, frameon=True, shadow=True, fancybox=True, borderpad=1)\n",
    "    plt.axhline(y=0, color='gray', linestyle='-', linewidth=1, alpha=0.7)"
   ]
  },
  {
   "cell_type": "code",
   "execution_count": 11,
   "metadata": {},
   "outputs": [],
   "source": [
    "# Save acc plot\n",
    "def show_acc_plot(axes: plt.axes, train_acc_array: list, test_acc_array: list) -> None:\n",
    "    axes.plot(train_acc_array, label=\"Train Accuracy\", linestyle='-', color='blue', marker='o', markersize=6, linewidth=2)\n",
    "    axes.plot(test_acc_array, label=\"Test Accuracy\", linestyle='--', color='orange', marker='s', markersize=6, linewidth=2)\n",
    "\n",
    "    axes.set_xlabel(\"Epochs\")\n",
    "    axes.set_ylabel(\"Accuracy\")\n",
    "    axes.set_title(f\"Accuracy Graph: v{VERSION+1}\", weight='bold')\n",
    "    axes.legend(loc=\"upper right\", fontsize=12, frameon=True, shadow=True, fancybox=True, borderpad=1)\n",
    "    axes.axhline(y=0, color='gray', linestyle='-', linewidth=1, alpha=0.7)"
   ]
  },
  {
   "cell_type": "markdown",
   "metadata": {},
   "source": [
    "# Training"
   ]
  },
  {
   "cell_type": "code",
   "execution_count": null,
   "metadata": {
    "colab": {
     "base_uri": "https://localhost:8080/"
    },
    "id": "hoF1SxOHhLGP",
    "outputId": "47593292-e1b2-45f0-b9b6-3eca3733c939"
   },
   "outputs": [],
   "source": [
    "# Statistic for visualisation\n",
    "train_loss_array = []\n",
    "test_loss_array = []\n",
    "train_acc_array = []\n",
    "test_acc_array = []\n",
    "best_acc = 0\n",
    "\n",
    "# Training loop\n",
    "for epoch in range(epochs_num):\n",
    "    print(f\"Epoch: {epoch}\\n---------\")\n",
    "\n",
    "    train_loss, train_acc = 0, 0\n",
    "\n",
    "    # Train\n",
    "    model.train()\n",
    "    for batch, (X, y) in enumerate(train_dataloader):\n",
    "        X, y = X.to(device), y.to(device)\n",
    "\n",
    "        y_pred = model(X)\n",
    "        loss = loss_fn(y_pred, y)\n",
    "        train_loss += loss.item()\n",
    "\n",
    "        # Testing how train accuracy works\n",
    "        train_pred_labels = y_pred.argmax(dim=1)\n",
    "        train_acc += (train_pred_labels == y).sum().item()\n",
    "        # In case of хуйня result delete till here\n",
    "\n",
    "        optimizer.zero_grad()\n",
    "        loss.backward()\n",
    "        optimizer.step()\n",
    "        if (batch % 10 == 0):\n",
    "            print(f\"Looked at {batch * len(X)}/{len(train_dataloader.dataset)} samples [{datetime.datetime.now().strftime('%H:%M:%S')}]\")\n",
    "\n",
    "    train_loss /= len(train_dataloader)\n",
    "    train_acc /= len(train_dataloader.dataset)\n",
    "    train_loss_array.append(train_loss)\n",
    "    train_acc_array.append(train_acc)\n",
    "    test_loss, test_acc = 0, 0\n",
    "\n",
    "    # Evaluate\n",
    "    model.eval()\n",
    "    print(f\"Evaluation... [{datetime.datetime.now().strftime('%H:%M:%S')}]\")\n",
    "    with torch.inference_mode():\n",
    "        for X, y in test_dataloader:\n",
    "            X, y = X.to(device), y.to(device)\n",
    "            test_y_pred = model(X)\n",
    "            test_loss += loss_fn(test_y_pred, y).item()\n",
    "            test_pred_labels = test_y_pred.argmax(dim=1)\n",
    "            test_acc += (test_pred_labels == y).sum().item()\n",
    "\n",
    "        test_loss /= len(test_dataloader)\n",
    "        test_acc /= len(test_dataloader.dataset)\n",
    "    test_loss_array.append(test_loss)\n",
    "    test_acc_array.append(test_acc)\n",
    "\n",
    "    # Log results of every epoch\n",
    "    print(f\"\\nTrain loss: {train_loss:.5f} | Train acc: {((train_acc)*100):.2f}% | Test loss: {test_loss:.5f} | Test acc: {((test_acc)*100):.2f}% [{datetime.datetime.now().strftime('%H:%M:%S')}]\\n\")\n",
    "    filename = f\"log_v{VERSION+1}.txt\"\n",
    "    with open(filename, \"a\") as file:\n",
    "        file.write(f\"epoch {epoch}:\\nTrain loss: {train_loss:.5f} | Train acc: {((train_acc)*100):.2f}% | Test loss: {test_loss:.5f} | Test acc: {((test_acc)*100):.2f}% [{datetime.datetime.now().strftime('%H:%M:%S')}]\\n\")\n",
    "\n",
    "    # Show and update loss/accuracy graphs\n",
    "    fig1, axes1 = plt.subplots(1)\n",
    "    show_loss_plot(axes1, train_loss_array, test_loss_array)\n",
    "    fig2, axes2 = plt.subplots(1)\n",
    "    show_acc_plot(axes2, train_acc_array, test_acc_array)\n",
    "\n",
    "    if epoch == epochs_num:\n",
    "        fig1.savefig(f\"loss_graph_v{VERSION+1}.png\")\n",
    "        fig2.savefig(f\"acc_graph_v{VERSION+1}.png\")\n",
    "\n",
    "    # Save model with best accuracy\n",
    "    if test_acc > best_acc:\n",
    "        best_acc = test_acc\n",
    "        SAVE_PATH = f\"model_best_weights_v{VERSION+1}.pt\"\n",
    "        torch.save(model.state_dict(), SAVE_PATH)\n",
    "\n",
    "        # Log save\n",
    "        print(f\"\\nWeights saved to {SAVE_PATH}\")\n",
    "        with open(filename, \"a\") as file:\n",
    "            file.write(f\"\\nWeights saved to {SAVE_PATH}\\n\\n\")\n"
   ]
  },
  {
   "cell_type": "code",
   "execution_count": 134,
   "metadata": {},
   "outputs": [],
   "source": [
    "# Weights extra save\n",
    "torch.save(model.state_dict(), f\"model_weights_v{VERSION+1}.pt\")"
   ]
  },
  {
   "cell_type": "code",
   "execution_count": null,
   "metadata": {},
   "outputs": [],
   "source": [
    "# Model save\n",
    "#torch.save(model, f\"model_v{VERSION+1}.pt\")"
   ]
  }
 ],
 "metadata": {
  "accelerator": "GPU",
  "colab": {
   "gpuType": "T4",
   "provenance": []
  },
  "kernelspec": {
   "display_name": "base",
   "language": "python",
   "name": "python3"
  },
  "language_info": {
   "codemirror_mode": {
    "name": "ipython",
    "version": 3
   },
   "file_extension": ".py",
   "mimetype": "text/x-python",
   "name": "python",
   "nbconvert_exporter": "python",
   "pygments_lexer": "ipython3",
   "version": "3.12.7"
  }
 },
 "nbformat": 4,
 "nbformat_minor": 4
}
