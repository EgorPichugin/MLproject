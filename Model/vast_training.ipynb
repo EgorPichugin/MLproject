{
 "cells": [
  {
   "cell_type": "markdown",
   "metadata": {},
   "source": [
    "# Imports"
   ]
  },
  {
   "cell_type": "code",
   "execution_count": null,
   "metadata": {
    "id": "iGSyMxve1Ms6"
   },
   "outputs": [],
   "source": [
    "# Imports for data loading\n",
    "import os\n",
    "import numpy as np\n",
    "import pandas as pd\n",
    "import matplotlib.pyplot as plt\n",
    "\n",
    "# Imports for model learning\n",
    "import torch\n",
    "import torchvision\n",
    "from torch.utils.data import DataLoader\n",
    "from torchvision import datasets, transforms, models\n",
    "from torch.optim.lr_scheduler import ReduceLROnPlateau\n",
    "\n",
    "# Imports for model evaluation\n",
    "from torchmetrics.classification import MulticlassPrecision, MulticlassRecall, MulticlassSpecificity\n",
    "\n",
    "# Other imports\n",
    "import datetime\n",
    "from typing import Tuple, List"
   ]
  },
  {
   "cell_type": "code",
   "execution_count": null,
   "metadata": {},
   "outputs": [],
   "source": [
    "# Check CUDA availability\n",
    "device = \"cuda\" if torch.cuda.is_available() else \"cpu\"\n",
    "device"
   ]
  },
  {
   "cell_type": "markdown",
   "metadata": {},
   "source": [
    "# Cells for Vast"
   ]
  },
  {
   "cell_type": "code",
   "execution_count": 4,
   "metadata": {},
   "outputs": [],
   "source": [
    "# !pip install pandas\n",
    "# !pip install torchmetrics\n",
    "\n",
    "# import zipfile\n",
    "\n",
    "# zip_path = \"dataset.zip\"\n",
    "# extract_path = \"dataset\"\n",
    "\n",
    "# with zipfile.ZipFile(zip_path, \"r\") as zip_ref:\n",
    "#     zip_ref.extractall(extract_path)\n",
    "\n",
    "# print(os.listdir(extract_path))"
   ]
  },
  {
   "cell_type": "markdown",
   "metadata": {
    "id": "mCGuACRZ2Mdx"
   },
   "source": [
    "# Data Loading"
   ]
  },
  {
   "cell_type": "code",
   "execution_count": null,
   "metadata": {},
   "outputs": [],
   "source": [
    "# # Dima's paths\n",
    "# TRAIN_PATH = r\"C:\\Users\\aquas\\Jupyter\\ML_Project_git\\dataset\\train\"\n",
    "# TEST_PATH = r\"C:\\Users\\aquas\\Jupyter\\ML_Project_git\\dataset\\test\"\n",
    "\n",
    "# # Tykhin's paths\n",
    "# TRAIN_PATH = f\"D:\\\\Tykhon\\\\Downloads\\\\data_folder\\\\train\"\n",
    "# TEST_PATH = f\"D:\\\\Tykhon\\\\Downloads\\\\data_folder\\\\test\"\n",
    "\n",
    "# # Colab paths\n",
    "# #TRAIN_PATH = \"/content/train\"\n",
    "# #TEST_PATH = \"/content/test\"\n",
    "\n",
    "# Vast paths\n",
    "TRAIN_PATH = r\"dataset/train\"\n",
    "TEST_PATH = r\"dataset/test\"\n",
    "\n",
    "train_set = datasets.ImageFolder(root=TRAIN_PATH)\n",
    "test_set = datasets.ImageFolder(root=TEST_PATH)\n",
    "\n",
    "# Print dataset configuration\n",
    "print(f\"\\nTraining set size: {len(train_set)} images\")\n",
    "print(f\"Test set size: {len(test_set)} images\")\n",
    "\n",
    "class_names = train_set.classes\n",
    "print(f\"\\nClasses [{len(class_names)}]: {class_names}\")"
   ]
  },
  {
   "cell_type": "code",
   "execution_count": null,
   "metadata": {},
   "outputs": [],
   "source": [
    "# Apply custom transformations\n",
    "custom_transform = transforms.Compose([\n",
    "    transforms.Resize((380, 380)),\n",
    "    transforms.CenterCrop(380),\n",
    "    transforms.Grayscale(num_output_channels=3),\n",
    "    transforms.ToTensor(),\n",
    "    transforms.Normalize(mean=[0.2954581669589034, 0.29541042352786206, 0.29537371119537875], std=[0.31727746077062646, 0.31729778651393764, 0.31726590300772206]),\n",
    "])\n",
    "train_set_transformed = datasets.ImageFolder(root=TRAIN_PATH, transform=custom_transform)\n",
    "test_set_transformed = datasets.ImageFolder(root=TEST_PATH, transform=custom_transform)\n",
    "\n",
    "# Show 5 pictures\n",
    "def show_pictures(dataset: datasets.ImageFolder, pictures_num: int=5) -> None:\n",
    "    start_index = 0\n",
    "\n",
    "    fig, axes = plt.subplots(nrows=1, ncols=pictures_num, figsize=(15, 45))\n",
    "\n",
    "    for _, ax in enumerate(axes):\n",
    "        image, label = dataset[np.random.randint(0, 23787)]\n",
    "        image = image.permute(1, 2, 0).numpy()\n",
    "        ax.imshow(image)\n",
    "        ax.set_title(f\"Label: {label}\")\n",
    "        ax.axis(\"off\")\n",
    "    plt.show()\n",
    "\n",
    "show_pictures(train_set_transformed)"
   ]
  },
  {
   "cell_type": "markdown",
   "metadata": {
    "id": "JdcO6mGt2aBC"
   },
   "source": [
    "# Model Loading"
   ]
  },
  {
   "cell_type": "markdown",
   "metadata": {},
   "source": [
    "## EfficientNet"
   ]
  },
  {
   "cell_type": "code",
   "execution_count": null,
   "metadata": {
    "id": "AShIX61Ag8WQ"
   },
   "outputs": [],
   "source": [
    "# Load EfficientNet model\n",
    "model = torchvision.models.efficientnet_b0(weights=torchvision.models.EfficientNet_B0_Weights.DEFAULT).to(device)\n",
    "MODEL_NAME = \"EfficientNet\"\n",
    "\n",
    "# Set parameter training to True\n",
    "for param in model.features.parameters():\n",
    "    param.requires_grad = True\n",
    "\n",
    "# Define classifier\n",
    "model.classifier = torch.nn.Sequential(\n",
    "    #torch.nn.Dropout(p=0.1, inplace=True), LOra!!! binary cross entropy -for multi labeling!!! mini-batching\n",
    "    torch.nn.Linear(in_features=model.classifier[1].in_features,\n",
    "                    out_features=4,\n",
    "                    bias=True)).to(device)\n",
    "\n",
    "# Define loss function and optimizer\n",
    "loss_fn = torch.nn.CrossEntropyLoss()\n",
    "optimizer = torch.optim.Adam(model.parameters(), lr=0.001)\n",
    "scheduler = ReduceLROnPlateau(optimizer, mode='min', factor=0.5, patience=2, threshold=0.01)"
   ]
  },
  {
   "cell_type": "markdown",
   "metadata": {},
   "source": [
    "## ResNet"
   ]
  },
  {
   "cell_type": "code",
   "execution_count": 9,
   "metadata": {},
   "outputs": [],
   "source": [
    "# # Load ResNet model\n",
    "# model = models.resnet152(weights=models.ResNet152_Weights.DEFAULT).to(device)\\\n",
    "# MODEL_NAME = \"ResNet\"\n",
    "\n",
    "# # Set parameter training to True\n",
    "# for param in model.parameters():\n",
    "#     param.requires_grad = True\n",
    "\n",
    "# # Define classifier\n",
    "# model.fc = torch.nn.Linear(\n",
    "#     in_features=model.fc.in_features,\n",
    "#     out_features=4,\n",
    "#     bias=True).to(device)\n",
    "\n",
    "# # Define loss function and optimizer\n",
    "# loss_fn = torch.nn.CrossEntropyLoss()\n",
    "# optimizer = torch.optim.Adam(model.parameters(), lr=0.001)\n",
    "# scheduler = ReduceLROnPlateau(optimizer, mode='min', factor=0.5, patience=2, threshold=0.01)"
   ]
  },
  {
   "cell_type": "markdown",
   "metadata": {},
   "source": [
    "## DenseNet"
   ]
  },
  {
   "cell_type": "code",
   "execution_count": 10,
   "metadata": {},
   "outputs": [],
   "source": [
    "# # Load DenseNet model\n",
    "# model = torchvision.models.densenet169(weights=torchvision.models.DenseNet169_Weights.DEFAULT).to(device)\n",
    "# MODEL_NAME = DenseNet\n",
    "\n",
    "# # Set parameter training to True\n",
    "# for param in model.features.parameters():\n",
    "#     param.requires_grad = True\n",
    "\n",
    "# # Define classifier\n",
    "# model.classifier = torch.nn.Sequential(\n",
    "#     torch.nn.Linear(in_features=model.classifier.in_features,\n",
    "#                     out_features=4,\n",
    "#                     bias=True)).to(device)\n",
    "\n",
    "# # Define loss function and optimizer\n",
    "# loss_fn = torch.nn.CrossEntropyLoss()\n",
    "# optimizer = torch.optim.Adam(model.parameters(), lr=0.001)\n",
    "# scheduler = ReduceLROnPlateau(optimizer, mode='min', factor=0.5, patience=2, threshold=0.01)"
   ]
  },
  {
   "cell_type": "markdown",
   "metadata": {},
   "source": [
    "## MobileNet"
   ]
  },
  {
   "cell_type": "code",
   "execution_count": 11,
   "metadata": {},
   "outputs": [],
   "source": [
    "# # Load MobileNet model\n",
    "# model = models.mobilenet_v2(weights=models.MobileNet_V2_Weights.DEFAULT).to(device)\n",
    "# MODEL_NAME = MobileNet\n",
    "\n",
    "# # Set parameter training to True\n",
    "# for param in model.features.parameters():\n",
    "#     param.requires_grad = True\n",
    "\n",
    "# # Define classifier\n",
    "# model.classifier = torch.nn.Sequential(\n",
    "#     #torch.nn.Dropout(p=0.1, inplace=True), LOra!!! binary cross entropy -for multi labeling!!! mini-batching\n",
    "#     torch.nn.Linear(in_features=model.classifier[1].in_features,\n",
    "#                     out_features=4,\n",
    "#                     bias=True)).to(device)\n",
    "\n",
    "# # Define loss function and optimizer\n",
    "# loss_fn = torch.nn.CrossEntropyLoss()\n",
    "# optimizer = torch.optim.Adam(model.parameters(), lr=0.001)"
   ]
  },
  {
   "cell_type": "markdown",
   "metadata": {},
   "source": [
    "# Settings"
   ]
  },
  {
   "cell_type": "code",
   "execution_count": 12,
   "metadata": {},
   "outputs": [],
   "source": [
    "# Number of classes\n",
    "num_classes = 4"
   ]
  },
  {
   "cell_type": "code",
   "execution_count": 14,
   "metadata": {},
   "outputs": [],
   "source": [
    "# Set batch size\n",
    "batch_size = 64\n",
    "train_dataloader = DataLoader(train_set_transformed, batch_size=batch_size, shuffle=True)\n",
    "test_dataloader = DataLoader(test_set_transformed, batch_size=batch_size, shuffle=False)"
   ]
  },
  {
   "cell_type": "code",
   "execution_count": 15,
   "metadata": {},
   "outputs": [],
   "source": [
    "# Set number of epochs\n",
    "epochs_num = 25"
   ]
  },
  {
   "cell_type": "markdown",
   "metadata": {
    "jp-MarkdownHeadingCollapsed": true
   },
   "source": [
    "# Functions"
   ]
  },
  {
   "cell_type": "markdown",
   "metadata": {},
   "source": [
    "### Some functions, idk"
   ]
  },
  {
   "cell_type": "code",
   "execution_count": 16,
   "metadata": {},
   "outputs": [],
   "source": [
    "# Log results of every epoch\n",
    "def save_log(train_loss: float, train_acc: float, test_loss:float, test_acc: float):\n",
    "    log_data = f\"\\nTrain loss: {train_loss:.5f} | Train acc: {((train_acc)*100):.2f}% | Test loss: {test_loss:.5f} | Test acc: {((test_acc)*100):.2f}% [{datetime.datetime.now().strftime('%H:%M:%S')}]\\n\"\n",
    "    print(log_data)\n",
    "\n",
    "    with open(f\"log_{MODEL_NAME}.txt\", \"a\") as file:\n",
    "        file.write(log_data)"
   ]
  },
  {
   "cell_type": "markdown",
   "metadata": {},
   "source": [
    "### Save Results"
   ]
  },
  {
   "cell_type": "code",
   "execution_count": 17,
   "metadata": {},
   "outputs": [],
   "source": [
    "# Save weight of the model with best accuracy\n",
    "def model_and_weight_save(test_acc: float, best_acc: float) -> float:\n",
    "    if test_acc > best_acc:\n",
    "        best_acc = test_acc\n",
    "        torch.save(model, f\"model_{MODEL_NAME}.pt\")\n",
    "        torch.save(model.state_dict(), f\"model_best_weights_{MODEL_NAME}.pt\")\n",
    "\n",
    "    return best_acc"
   ]
  },
  {
   "cell_type": "code",
   "execution_count": 21,
   "metadata": {},
   "outputs": [],
   "source": [
    "# Save top confused images\n",
    "def save_top_mistakes(mistakes: list, X, y, test_pred_labels, test_y_prob):\n",
    "    wrong = test_pred_labels != y\n",
    "    for idx in range(len(wrong)):\n",
    "        if wrong[idx]:\n",
    "            mistakes.append({\n",
    "                'image': X[idx].cpu(),\n",
    "                'true': y[idx].item(),\n",
    "                'pred': test_pred_labels[idx].item(),\n",
    "                'conf': test_y_prob[idx][test_pred_labels[idx]].item()\n",
    "            })"
   ]
  },
  {
   "cell_type": "markdown",
   "metadata": {},
   "source": [
    "# Training"
   ]
  },
  {
   "cell_type": "code",
   "execution_count": null,
   "metadata": {
    "colab": {
     "base_uri": "https://localhost:8080/"
    },
    "id": "hoF1SxOHhLGP",
    "outputId": "47593292-e1b2-45f0-b9b6-3eca3733c939"
   },
   "outputs": [],
   "source": [
    "# Variables for evaluation\n",
    "best_acc = 0\n",
    "train_loss_array = []\n",
    "train_acc_array = []\n",
    "test_loss_array = []\n",
    "test_acc_array = []\n",
    "precision_array = []\n",
    "specificity_array = []\n",
    "recall_array = []\n",
    "f1_score_array = []\n",
    "mistakes = []\n",
    "all_predictions = torch.empty(0, dtype=torch.long)\n",
    "all_probabilities = torch.empty(0, num_classes)\n",
    "all_labels = torch.empty(0, dtype=torch.long)\n",
    "\n",
    "precision_metric = MulticlassPrecision(num_classes=num_classes, average=\"macro\").to(device)\n",
    "recall_metric = MulticlassRecall(num_classes=num_classes, average=\"macro\").to(device)\n",
    "specificity_metric = MulticlassSpecificity(num_classes=num_classes, average='macro').to(device)\n",
    "\n",
    "# Training loop\n",
    "for epoch in range(epochs_num):\n",
    "    print(f\"Epoch: {epoch}\\n---------\")\n",
    "\n",
    "    model.train()\n",
    "    train_loss, train_acc = 0, 0\n",
    "    for batch, (X, y) in enumerate(train_dataloader):\n",
    "        X, y = X.to(device), y.to(device)\n",
    "        y_pred = model(X)\n",
    "\n",
    "        loss = loss_fn(y_pred, y)\n",
    "        train_loss += loss.item()\n",
    "        train_pred_labels = y_pred.argmax(dim=1)\n",
    "        train_acc += (train_pred_labels == y).sum().item()\n",
    "\n",
    "        optimizer.zero_grad()\n",
    "        loss.backward()\n",
    "        optimizer.step()\n",
    "\n",
    "        if (batch % 10 == 0):\n",
    "            print(f\"Looked at {batch * len(X)}/{len(train_dataloader.dataset)} samples [{datetime.datetime.now().strftime('%H:%M:%S')}]\")\n",
    "\n",
    "    train_loss /= len(train_dataloader)\n",
    "    train_acc /= len(train_dataloader.dataset)\n",
    "    train_loss_array.append(train_loss)\n",
    "    train_acc_array.append(train_acc)\n",
    "\n",
    "    # Evaluation\n",
    "    model.eval()\n",
    "    test_loss, test_acc = 0, 0\n",
    "    print(f\"Evaluation... [{datetime.datetime.now().strftime('%H:%M:%S')}]\")\n",
    "\n",
    "    with torch.inference_mode():\n",
    "        for X, y in test_dataloader:\n",
    "            X, y = X.to(device), y.to(device)\n",
    "            test_y_pred = model(X)\n",
    "            test_y_prob = test_y_pred.softmax(dim=1)\n",
    "            test_loss += loss_fn(test_y_pred, y).item()\n",
    "            test_pred_labels = test_y_pred.argmax(dim=1)\n",
    "            test_acc += (test_pred_labels == y).sum().item()\n",
    "\n",
    "            if best_acc <= test_acc:\n",
    "                all_probabilities = test_y_prob.cpu(), dim=0\n",
    "                all_predictions = test_pred_labels.cpu(), dim=0\n",
    "                all_labels =y.cpu(), dim=0\n",
    "\n",
    "            save_top_mistakes(mistakes, X, y, test_pred_labels, test_y_prob)\n",
    "\n",
    "    test_loss /= len(test_dataloader)\n",
    "    test_acc /= len(test_dataloader.dataset)\n",
    "    test_loss_array.append(test_loss)\n",
    "    test_acc_array.append(test_acc)\n",
    "\n",
    "    scheduler.step(test_loss)\n",
    "\n",
    "    save_log(train_loss, train_acc, test_loss, test_acc)\n",
    "    best_acc = model_and_weight_save(test_acc, best_acc)"
   ]
  },
  {
   "cell_type": "markdown",
   "metadata": {},
   "source": [
    "# Saving Results"
   ]
  },
  {
   "cell_type": "code",
   "execution_count": null,
   "metadata": {},
   "outputs": [],
   "source": [
    "# Save plot for top mistakes\n",
    "mistakes.sort(key=lambda x: x['conf'], reverse=True)\n",
    "mistakes = mistakes[:10]\n",
    "\n",
    "fig, axes = plt.subplots(2, 5, figsize=(15, 6))\n",
    "for idx, mistake in enumerate(mistakes):\n",
    "    ax = axes[idx//5, idx%5]\n",
    "    img = mistake['image']\n",
    "    img = np.transpose(img, (1, 2, 0))\n",
    "    ax.imshow(img, cmap='gray')\n",
    "    ax.axis('off')\n",
    "    ax.set_title(f'Pred: {mistake[\"pred\"]}\\nTrue: {mistake[\"true\"]}')\n",
    "\n",
    "plt.subplots_adjust(hspace=0.5)\n",
    "plt.savefig(f\"top_mistakes_{MODEL_NAME}.png\")"
   ]
  },
  {
   "cell_type": "code",
   "execution_count": null,
   "metadata": {},
   "outputs": [],
   "source": [
    "# Save arrays for acc / loss graphs\n",
    "visualisation_arrays = pd.DataFrame({\n",
    "    \"Train loss\": train_loss_array,\n",
    "    \"Test loss\": test_loss_array,\n",
    "    \"Train acc\": train_acc_array,\n",
    "    \"Test acc\": test_acc_array\n",
    "})\n",
    "visualisation_arrays.to_csv(\"visualisation_arrays.csv\", index=False)"
   ]
  },
  {
   "cell_type": "code",
   "execution_count": 29,
   "metadata": {},
   "outputs": [],
   "source": [
    "# Save tensors for all_predictions\n",
    "torch.save({\n",
    "    \"all_probabilities\": all_probabilities,\n",
    "    \"all_predictions\": all_predictions,\n",
    "    \"all_labels\": all_labels\n",
    "}, \"visualisation_tensors.pt\")"
   ]
  }
 ],
 "metadata": {
  "accelerator": "GPU",
  "colab": {
   "gpuType": "T4",
   "provenance": []
  },
  "kernelspec": {
   "display_name": ".venv",
   "language": "python",
   "name": "python3"
  },
  "language_info": {
   "codemirror_mode": {
    "name": "ipython",
    "version": 3
   },
   "file_extension": ".py",
   "mimetype": "text/x-python",
   "name": "python",
   "nbconvert_exporter": "python",
   "pygments_lexer": "ipython3",
   "version": "3.12.8"
  }
 },
 "nbformat": 4,
 "nbformat_minor": 4
}
